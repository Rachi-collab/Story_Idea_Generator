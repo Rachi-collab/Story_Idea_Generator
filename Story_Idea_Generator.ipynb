{
 "cells": [
  {
   "cell_type": "code",
   "execution_count": 8,
   "id": "b23857fd-b806-42ab-86fb-8e8c95390f7f",
   "metadata": {},
   "outputs": [],
   "source": [
    "import random\n",
    "import textwrap"
   ]
  },
  {
   "cell_type": "code",
   "execution_count": 9,
   "id": "9f09e678-48f9-479a-96f7-bf1785494818",
   "metadata": {},
   "outputs": [],
   "source": [
    "genres = [\"Fantasy\", \"Science Fiction\", \"Mystery\", \"Romance\", \"Horror\", \"Adventure\"]\n",
    "themes = [\"Friendship\", \"Betrayal\", \"Courage\", \"Survival\", \"Love\", \"Identity\"]\n",
    "character_types = [\"a brave knight\", \"a curious scientist\", \"a troubled detective\", \"an ambitious artist\", \"a lost soul\", \"a resourceful thief\"]"
   ]
  },
  {
   "cell_type": "code",
   "execution_count": 10,
   "id": "e8021db5-6fda-4652-945e-5f490d492265",
   "metadata": {},
   "outputs": [],
   "source": [
    "def generate_story_idea(genre, theme, character_type):\n",
    "    prompt = (f\"In a {genre} world themed around {theme}, \"\n",
    "              f\"the story unfolds about {character_type} who must confront an unexpected challenge \"\n",
    "              f\"that could change everything. How do they navigate this journey?\")\n",
    "    return prompt"
   ]
  },
  {
   "cell_type": "code",
   "execution_count": 11,
   "id": "b5acd925-83d5-48af-a7f5-4ca5a896c076",
   "metadata": {},
   "outputs": [],
   "source": [
    "def select_option(prompt, options):\n",
    "    print(f\"\\n{prompt}\")\n",
    "    for i, option in enumerate(options, 1):\n",
    "        print(f\"{i}. {option}\")\n",
    "    choice = input(\"Enter the number or press Enter for random choice: \").strip()\n",
    "    if choice.isdigit() and 1 <= int(choice) <= len(options):\n",
    "        return options[int(choice)-1]\n",
    "    selected = random.choice(options)\n",
    "    print(f\"Selected randomly: {selected}\")\n",
    "    return selected"
   ]
  },
  {
   "cell_type": "code",
   "execution_count": 13,
   "id": "81d459f2-7525-40d8-8dc1-c63d14ac0161",
   "metadata": {},
   "outputs": [
    {
     "name": "stdout",
     "output_type": "stream",
     "text": [
      "Welcome to the Story Idea Generator!\n",
      "\n",
      "Choose a genre:\n",
      "1. Fantasy\n",
      "2. Science Fiction\n",
      "3. Mystery\n",
      "4. Romance\n",
      "5. Horror\n",
      "6. Adventure\n"
     ]
    },
    {
     "name": "stdin",
     "output_type": "stream",
     "text": [
      "Enter the number or press Enter for random choice:  \n"
     ]
    },
    {
     "name": "stdout",
     "output_type": "stream",
     "text": [
      "Selected randomly: Romance\n",
      "\n",
      "Choose a theme:\n",
      "1. Friendship\n",
      "2. Betrayal\n",
      "3. Courage\n",
      "4. Survival\n",
      "5. Love\n",
      "6. Identity\n"
     ]
    },
    {
     "name": "stdin",
     "output_type": "stream",
     "text": [
      "Enter the number or press Enter for random choice:  \n"
     ]
    },
    {
     "name": "stdout",
     "output_type": "stream",
     "text": [
      "Selected randomly: Betrayal\n",
      "\n",
      "Choose a character type:\n",
      "1. a brave knight\n",
      "2. a curious scientist\n",
      "3. a troubled detective\n",
      "4. an ambitious artist\n",
      "5. a lost soul\n",
      "6. a resourceful thief\n"
     ]
    },
    {
     "name": "stdin",
     "output_type": "stream",
     "text": [
      "Enter the number or press Enter for random choice:  \n"
     ]
    },
    {
     "name": "stdout",
     "output_type": "stream",
     "text": [
      "Selected randomly: a lost soul\n",
      "\n",
      "Here’s your story idea:\n",
      "In a Romance world themed around Betrayal, the story unfolds about a lost soul\n",
      "who must confront an unexpected challenge that could change everything. How do\n",
      "they navigate this journey?\n"
     ]
    },
    {
     "name": "stdin",
     "output_type": "stream",
     "text": [
      "\n",
      " Would you like to save this idea to a file? (yes/no):  no\n"
     ]
    }
   ],
   "source": [
    "def story_prompt_generator():\n",
    "    print(\"Welcome to the Story Idea Generator!\")    \n",
    "    genre = select_option(\"Choose a genre:\", genres)\n",
    "    if genre not in genres:\n",
    "        print(\"Invalid genre chosen. Please select from the list.\")\n",
    "        return\n",
    "    theme = select_option(\"Choose a theme:\", themes)\n",
    "    if theme not in themes:\n",
    "        print(\"Invalid theme chosen. Please select from the list.\")\n",
    "        return\n",
    "    character_type = select_option(\"Choose a character type:\", character_types)\n",
    "    if character_type not in character_types:\n",
    "        print(\"Invalid character type chosen. Please select from the list.\")\n",
    "        return\n",
    "    story_idea = generate_story_idea(genre, theme, character_type)\n",
    "    print(\"\\nHere’s your story idea:\")\n",
    "    print(textwrap.fill(story_idea, width=80))\n",
    "    save = input(\"\\n Would you like to save this idea to a file? (yes/no): \").strip().lower()\n",
    "    if save == 'yes':\n",
    "        with open(\"generated_story_idea.txt\", \"w\") as f:\n",
    "            f.write(story_idea)\n",
    "        print(\"Story idea saved to 'generated_story_idea.txt'.\")\n",
    "story_prompt_generator()"
   ]
  },
  {
   "cell_type": "code",
   "execution_count": null,
   "id": "72a4923d-4e29-4fa7-beed-3b3725635fc9",
   "metadata": {},
   "outputs": [],
   "source": []
  }
 ],
 "metadata": {
  "kernelspec": {
   "display_name": "Python 3 (ipykernel)",
   "language": "python",
   "name": "python3"
  },
  "language_info": {
   "codemirror_mode": {
    "name": "ipython",
    "version": 3
   },
   "file_extension": ".py",
   "mimetype": "text/x-python",
   "name": "python",
   "nbconvert_exporter": "python",
   "pygments_lexer": "ipython3",
   "version": "3.12.7"
  }
 },
 "nbformat": 4,
 "nbformat_minor": 5
}
